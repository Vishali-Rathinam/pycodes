{
 "cells": [
  {
   "cell_type": "code",
   "execution_count": 2,
   "id": "eff49920",
   "metadata": {},
   "outputs": [
    {
     "name": "stdout",
     "output_type": "stream",
     "text": [
      "Hello Python\n"
     ]
    }
   ],
   "source": [
    "# 1. Write a Python program to print \"Hello Python\"\n",
    "\n",
    "print(\"Hello Python\")"
   ]
  },
  {
   "cell_type": "code",
   "execution_count": 8,
   "id": "ade7368f",
   "metadata": {},
   "outputs": [
    {
     "name": "stdout",
     "output_type": "stream",
     "text": [
      "Enter first number:20\n",
      "Enter second number:5\n",
      "The sum of 20 and 5 are: 25\n",
      "The division of 20 and 5 are: 4\n"
     ]
    }
   ],
   "source": [
    "# 2. Write a Python program to do arithmetical operations addition and division?\n",
    "\n",
    "a=int(input(\"Enter first number:\"))\n",
    "b=int(input(\"Enter second number:\"))\n",
    "print(\"The sum of\",a,\"and\",b,\"are:\",a+b)\n",
    "print(\"The division of\",a,\"and\",b,\"are:\",a//b)"
   ]
  },
  {
   "cell_type": "code",
   "execution_count": 9,
   "id": "c3dbb8f0",
   "metadata": {},
   "outputs": [
    {
     "name": "stdout",
     "output_type": "stream",
     "text": [
      "Enter the length of base:10\n",
      "Enter length height:4\n",
      "The are of given triangle is 20.0\n"
     ]
    }
   ],
   "source": [
    "# 3. Write a Python program to find the area of a triangle?\n",
    "\n",
    "a=int(input(\"Enter the length of base:\"))\n",
    "b=int(input(\"Enter length height:\"))\n",
    "\n",
    "print(\"The are of given triangle is\",(0.5)*a*b)"
   ]
  },
  {
   "cell_type": "code",
   "execution_count": 29,
   "id": "c1d92268",
   "metadata": {},
   "outputs": [
    {
     "name": "stdout",
     "output_type": "stream",
     "text": [
      "Enter value for a  :3\n",
      "Enter value for b  :4\n",
      "swapped values are:\n",
      "a: 4 b: 3\n"
     ]
    }
   ],
   "source": [
    "# 4. Write a Python program to swap two variables?\n",
    "\n",
    "a=int(input(\"Enter value for a  :\"))\n",
    "b=int(input(\"Enter value for b  :\"))\n",
    "a,b=b,a\n",
    "print(\"swapped values are:\")\n",
    "print(\"a:\",a,\"b:\",b)"
   ]
  },
  {
   "cell_type": "code",
   "execution_count": 24,
   "id": "694c6be6",
   "metadata": {},
   "outputs": [
    {
     "name": "stdout",
     "output_type": "stream",
     "text": [
      "31\n"
     ]
    }
   ],
   "source": [
    "# 5. Write a Python program to generate a random number?\n",
    "\n",
    "import random\n",
    "a=random.randint(0,100)\n",
    "print(a)"
   ]
  }
 ],
 "metadata": {
  "kernelspec": {
   "display_name": "Python 3",
   "language": "python",
   "name": "python3"
  },
  "language_info": {
   "codemirror_mode": {
    "name": "ipython",
    "version": 3
   },
   "file_extension": ".py",
   "mimetype": "text/x-python",
   "name": "python",
   "nbconvert_exporter": "python",
   "pygments_lexer": "ipython3",
   "version": "3.8.8"
  }
 },
 "nbformat": 4,
 "nbformat_minor": 5
}
