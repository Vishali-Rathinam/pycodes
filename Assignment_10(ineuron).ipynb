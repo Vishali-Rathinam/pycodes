{
 "cells": [
  {
   "cell_type": "markdown",
   "id": "09b7c4f6",
   "metadata": {},
   "source": [
    "# Assignment_10(ineuron)"
   ]
  },
  {
   "cell_type": "raw",
   "id": "a1eae980",
   "metadata": {},
   "source": [
    "submitted by- Vishali R"
   ]
  },
  {
   "cell_type": "code",
   "execution_count": 1,
   "id": "d7a7db85",
   "metadata": {},
   "outputs": [
    {
     "name": "stdout",
     "output_type": "stream",
     "text": [
      "Enter a list of integers:1 2 3 4 5\n",
      "The sum of elements in the given list is 15\n"
     ]
    }
   ],
   "source": [
    "# 1. Write a Python program to find sum of elements in list?\n",
    "\n",
    "a = list(map(int,input(\"Enter a list of integers:\").split()))\n",
    "print(\"The sum of elements in the given list is\",sum(a))"
   ]
  },
  {
   "cell_type": "code",
   "execution_count": 2,
   "id": "e0703d80",
   "metadata": {},
   "outputs": [
    {
     "name": "stdout",
     "output_type": "stream",
     "text": [
      "Enter a list of integers:1 2 3 4 5\n",
      "The multiplication of all numbers in the given list is: 120\n"
     ]
    }
   ],
   "source": [
    "# 2. Write a Python program to Multiply all numbers in the list?\n",
    "\n",
    "a = list(map(int,input(\"Enter a list of integers:\").split()))\n",
    "b = 1\n",
    "for i in a:\n",
    "   b *= i \n",
    "print(\"The multiplication of all numbers in the given list is:\",b)"
   ]
  },
  {
   "cell_type": "code",
   "execution_count": 3,
   "id": "ef59d565",
   "metadata": {},
   "outputs": [
    {
     "name": "stdout",
     "output_type": "stream",
     "text": [
      "Enter a list of integers:55 44 1 75 23 67\n",
      "The smallest number in a list is: 1\n"
     ]
    }
   ],
   "source": [
    "# 3. Write a Python program to find smallest number in a list?\n",
    "\n",
    "a = list(map(int,input(\"Enter a list of integers:\").split()))\n",
    "print(\"The smallest number in a list is:\",min(a))"
   ]
  },
  {
   "cell_type": "code",
   "execution_count": 5,
   "id": "dc5d11f5",
   "metadata": {},
   "outputs": [
    {
     "name": "stdout",
     "output_type": "stream",
     "text": [
      "Enter a list of integers:12 34 100 23 12 7\n",
      "The largest number in a list is: 100\n"
     ]
    }
   ],
   "source": [
    "# 4. Write a Python program to find largest number in a list?\n",
    "\n",
    "a = list(map(int,input(\"Enter a list of integers:\").split()))\n",
    "print(\"The largest number in a list is:\",max(a))"
   ]
  },
  {
   "cell_type": "code",
   "execution_count": 8,
   "id": "0ed58082",
   "metadata": {},
   "outputs": [
    {
     "name": "stdout",
     "output_type": "stream",
     "text": [
      "Enter a list of integers:12 34 100 23 12 7\n",
      "The second largest number in a list is: 34\n"
     ]
    }
   ],
   "source": [
    "# 5. Write a Python program to find second largest number in a list?\n",
    "\n",
    "a = list(map(int,input(\"Enter a list of integers:\").split()))\n",
    "a.sort()\n",
    "print(\"The second largest number in a list is:\",a[-2])"
   ]
  },
  {
   "cell_type": "code",
   "execution_count": 15,
   "id": "41e8f6ff",
   "metadata": {},
   "outputs": [
    {
     "name": "stdout",
     "output_type": "stream",
     "text": [
      "Enter a list of integers:12 34 100 23 12 7\n",
      "Enter the value of n:3\n",
      "The N largest elements in a list is:\n",
      "100 34 23 "
     ]
    }
   ],
   "source": [
    "# 6. Write a Python program to find N largest elements from a list?\n",
    "\n",
    "a = list(map(int,input(\"Enter a list of integers:\").split()))\n",
    "b = int(input(\"Enter the value of n:\"))\n",
    "a.sort(reverse = True)\n",
    "print(\"The N largest elements in a list is:\")\n",
    "for i in range(b):\n",
    "    print(a[i],end = \" \")"
   ]
  },
  {
   "cell_type": "code",
   "execution_count": 17,
   "id": "f74d678a",
   "metadata": {},
   "outputs": [
    {
     "name": "stdout",
     "output_type": "stream",
     "text": [
      "Enter a list of integers:12 34 100 23 12 7\n",
      "The even numbers in a list is:\n",
      "12 34 100 12\n"
     ]
    }
   ],
   "source": [
    "# 7. Write a Python program to print even numbers in a list?\n",
    "\n",
    "a = list(map(int,input(\"Enter a list of integers:\").split()))\n",
    "b = [i for i in a if i%2==0]\n",
    "print(\"The even numbers in a list is:\")\n",
    "print(*b)"
   ]
  },
  {
   "cell_type": "code",
   "execution_count": 18,
   "id": "d6aab99b",
   "metadata": {},
   "outputs": [
    {
     "name": "stdout",
     "output_type": "stream",
     "text": [
      "Enter a list of integers:12 34 100 23 12 7\n",
      "The odd numbers in a list is:\n",
      "23 7\n"
     ]
    }
   ],
   "source": [
    "# 8. Write a Python program to print odd numbers in a List?\n",
    "\n",
    "a = list(map(int,input(\"Enter a list of integers:\").split()))\n",
    "b = [i for i in a if i%2!=0]\n",
    "print(\"The odd numbers in a list is:\")\n",
    "print(*b)"
   ]
  },
  {
   "cell_type": "code",
   "execution_count": 15,
   "id": "f8bc7da4",
   "metadata": {},
   "outputs": [
    {
     "name": "stdout",
     "output_type": "stream",
     "text": [
      "Enter a list:\"stre\",\"swer\",[],[]\n",
      "\"stre\" \"swer\" [] []\n"
     ]
    }
   ],
   "source": [
    "# 9. Write a Python program to Remove empty List from List?\n",
    "\n",
    "a = list(map(str,input(\"Enter a list:\").split(\",\")))\n",
    "for i in a:\n",
    "    if type(i)==list and len(i)==0:\n",
    "        a.pop(i)\n",
    "print(*a)"
   ]
  },
  {
   "cell_type": "code",
   "execution_count": 5,
   "id": "3323a1af",
   "metadata": {},
   "outputs": [
    {
     "name": "stdout",
     "output_type": "stream",
     "text": [
      "Enter a list:1 2 3 4 5\n",
      "The cloned list is: 1 2 3 4 5\n"
     ]
    }
   ],
   "source": [
    "# 10. Write a Python program to Cloning or Copying a list?\n",
    "\n",
    "a = list(map(int,input(\"Enter a list:\").split(\" \")))\n",
    "b = a[:]\n",
    "print(\"The cloned list is:\",*b)"
   ]
  },
  {
   "cell_type": "code",
   "execution_count": 7,
   "id": "bdbe465b",
   "metadata": {},
   "outputs": [
    {
     "name": "stdout",
     "output_type": "stream",
     "text": [
      "Enter a list:1 2 1 3 1 4 5 4 1 1\n",
      "Enter the element to be counted:1\n",
      "1 occured 5 times\n"
     ]
    }
   ],
   "source": [
    "# 11. Write a Python program to Count occurrences of an element in a list?\n",
    "\n",
    "a = list(map(int,input(\"Enter a list:\").split(\" \")))\n",
    "c = int(input(\"Enter the element to be counted:\"))\n",
    "print(c,\"occured\",a.count(c),\"times\")"
   ]
  }
 ],
 "metadata": {
  "kernelspec": {
   "display_name": "Python 3",
   "language": "python",
   "name": "python3"
  },
  "language_info": {
   "codemirror_mode": {
    "name": "ipython",
    "version": 3
   },
   "file_extension": ".py",
   "mimetype": "text/x-python",
   "name": "python",
   "nbconvert_exporter": "python",
   "pygments_lexer": "ipython3",
   "version": "3.8.8"
  }
 },
 "nbformat": 4,
 "nbformat_minor": 5
}
