{
 "cells": [
  {
   "cell_type": "code",
   "execution_count": 1,
   "id": "ddf4f6e3",
   "metadata": {},
   "outputs": [
    {
     "name": "stdout",
     "output_type": "stream",
     "text": [
      "Enter the number of kilometers:100\n",
      "The number of miles in 100 km is 62.137 miles\n"
     ]
    }
   ],
   "source": [
    "# 1. Write a Python program to convert kilometers to miles\n",
    "\n",
    "a=int(input(\"Enter the number of kilometers:\"))                       #getting input\n",
    "print(\"The number of miles in\",a,\"km is\",a*0.62137,\"miles\")           #1km=0.62137miles"
   ]
  },
  {
   "cell_type": "code",
   "execution_count": 4,
   "id": "2dbaad00",
   "metadata": {},
   "outputs": [
    {
     "name": "stdout",
     "output_type": "stream",
     "text": [
      "Enter the temperature in celsius:100\n",
      "100 celsius= 212.0 fahrenheit\n"
     ]
    }
   ],
   "source": [
    "# 2. Write a Python program to convert Celsius to Fahrenheit\n",
    "\n",
    "a=int(input(\"Enter the temperature in celsius:\"))\n",
    "print(a,\"celsius=\",(a*(9/5)+32),\"fahrenheit\")                         #celsius to fahrenheit"
   ]
  },
  {
   "cell_type": "code",
   "execution_count": 7,
   "id": "268c9c1c",
   "metadata": {},
   "outputs": [
    {
     "name": "stdout",
     "output_type": "stream",
     "text": [
      "Enter the year:2022\n",
      "Enter the month:7\n",
      "     July 2022\n",
      "Mo Tu We Th Fr Sa Su\n",
      "             1  2  3\n",
      " 4  5  6  7  8  9 10\n",
      "11 12 13 14 15 16 17\n",
      "18 19 20 21 22 23 24\n",
      "25 26 27 28 29 30 31\n",
      "\n"
     ]
    }
   ],
   "source": [
    "# 3. Write a Python program to display calendar\n",
    "\n",
    "import calendar\n",
    "y=int(input(\"Enter the year:\"))\n",
    "m=int(input(\"Enter the month:\"))                                    \n",
    "print(calendar.month(y,m))                                             #to display calendar"
   ]
  },
  {
   "cell_type": "code",
   "execution_count": 13,
   "id": "a3d1aa8f",
   "metadata": {},
   "outputs": [
    {
     "name": "stdout",
     "output_type": "stream",
     "text": [
      "Enter the value for a,b,c:1,3,2\n",
      "The solution are (-2+0j) and (-1+0j)\n"
     ]
    }
   ],
   "source": [
    "# 4. Write a Python program to solve quadratic equation?\n",
    "\n",
    "import cmath                                                          # quadratic equation ax**2 + bx + c = 0\n",
    "a,b,c=map(int,input(\"Enter the value for a,b,c:\").split(','))\n",
    "\n",
    "d = (b**2) - (4*a*c)                                                  # discriminant\n",
    "\n",
    "sol1 = (-b-cmath.sqrt(d))/(2*a)                                       # solution1\n",
    "sol2 = (-b+cmath.sqrt(d))/(2*a)                                       # solution2\n",
    "\n",
    "print('The solution are {0} and {1}'.format(sol1,sol2))"
   ]
  },
  {
   "cell_type": "code",
   "execution_count": 15,
   "id": "55287778",
   "metadata": {},
   "outputs": [
    {
     "name": "stdout",
     "output_type": "stream",
     "text": [
      "Enter the value for a:5\n",
      "Enter the value for b:4\n",
      "The swapped values are a= 4 ,b= 5\n"
     ]
    }
   ],
   "source": [
    "# 5. Write a Python program to swap two variables without temp variable\n",
    "\n",
    "a=int(input(\"Enter the value for a:\"))\n",
    "b=int(input(\"Enter the value for b:\"))\n",
    "a,b=b,a                                                                 #swapping\n",
    "print(\"The swapped values are a=\",a,\",b=\",b)"
   ]
  }
 ],
 "metadata": {
  "kernelspec": {
   "display_name": "Python 3",
   "language": "python",
   "name": "python3"
  },
  "language_info": {
   "codemirror_mode": {
    "name": "ipython",
    "version": 3
   },
   "file_extension": ".py",
   "mimetype": "text/x-python",
   "name": "python",
   "nbconvert_exporter": "python",
   "pygments_lexer": "ipython3",
   "version": "3.8.8"
  }
 },
 "nbformat": 4,
 "nbformat_minor": 5
}
