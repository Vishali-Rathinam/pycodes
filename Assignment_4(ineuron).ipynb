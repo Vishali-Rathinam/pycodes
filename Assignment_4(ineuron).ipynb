{
 "cells": [
  {
   "cell_type": "code",
   "execution_count": 4,
   "id": "bcf8e77b",
   "metadata": {},
   "outputs": [
    {
     "name": "stdout",
     "output_type": "stream",
     "text": [
      "Enter a number:5\n",
      "The factorial of 5 is 120\n"
     ]
    }
   ],
   "source": [
    "# 1. Write a Python Program to Find the Factorial of a Number?\n",
    "\n",
    "a=int(input(\"Enter a number:\"));b=1\n",
    "for i in range(1,a+1):\n",
    "    b*=i\n",
    "print(\"The factorial of\",a,\"is\",b)"
   ]
  },
  {
   "cell_type": "code",
   "execution_count": 10,
   "id": "32c3a2c0",
   "metadata": {},
   "outputs": [
    {
     "name": "stdout",
     "output_type": "stream",
     "text": [
      "Enter a number:3\n",
      "\n",
      "3 Table\n",
      "3 * 1 = 3\n",
      "3 * 2 = 6\n",
      "3 * 3 = 9\n",
      "3 * 4 = 12\n",
      "3 * 5 = 15\n",
      "3 * 6 = 18\n",
      "3 * 7 = 21\n",
      "3 * 8 = 24\n",
      "3 * 9 = 27\n",
      "3 * 10 = 30\n"
     ]
    }
   ],
   "source": [
    "# 2. Write a Python Program to Display the multiplication Table?\n",
    "\n",
    "a=int(input(\"Enter a number:\"))\n",
    "print()\n",
    "print(a,\"Table\")\n",
    "for i in range(1,11):\n",
    "    print(a,\"*\",i,\"=\",i*a)"
   ]
  },
  {
   "cell_type": "code",
   "execution_count": 5,
   "id": "cd8c0c89",
   "metadata": {},
   "outputs": [
    {
     "name": "stdout",
     "output_type": "stream",
     "text": [
      "Enter a number:20\n",
      "The fibonacci series is:\n",
      "0 1 1 2 3 5 8 13 21 34 55 89 144 233 377 610 987 1597 2584 4181 6765 10946 "
     ]
    }
   ],
   "source": [
    "# 3. Write a Python Program to Print the Fibonacci sequence?\n",
    "\n",
    "a=int(input(\"Enter a number:\"));b=0;c=1;s=0\n",
    "print(\"The fibonacci series is:\")\n",
    "print(b,c,end=' ')\n",
    "for i in range(a):\n",
    "    s=b+c\n",
    "    print(s,end=' ')\n",
    "    b,c = c,s"
   ]
  },
  {
   "cell_type": "code",
   "execution_count": 6,
   "id": "80470bd8",
   "metadata": {},
   "outputs": [
    {
     "name": "stdout",
     "output_type": "stream",
     "text": [
      "Enter a number:1634\n",
      "The given number is an armstrong number\n"
     ]
    }
   ],
   "source": [
    "# 4. Write a Python Program to Check Armstrong Number?\n",
    "\n",
    "a=int(input(\"Enter a number:\"))\n",
    "b=len(str(a));s=0\n",
    "for i in str(a):\n",
    "    s+=(int(i)**b)\n",
    "if s==a:print(\"The given number is an armstrong number\")\n",
    "else:print(\"The given number is not a armstrong number\")"
   ]
  },
  {
   "cell_type": "code",
   "execution_count": 4,
   "id": "0bfead82",
   "metadata": {},
   "outputs": [
    {
     "name": "stdout",
     "output_type": "stream",
     "text": [
      "Enter the interval:1,3000\n",
      "1 2 3 4 5 6 7 8 9 153 370 371 407 1634 "
     ]
    }
   ],
   "source": [
    "# 5. Write a Python Program to Find Armstrong Number in an Interval?\n",
    "\n",
    "a,b=map(int,input(\"Enter the interval:\").split(\",\"))\n",
    "for i in range(a,b+1):\n",
    "    e=len(str(i));s=0\n",
    "    for j in str(i):\n",
    "        s+=(int(j)**e)\n",
    "    if s==i:print(i,end=' ')"
   ]
  },
  {
   "cell_type": "code",
   "execution_count": 7,
   "id": "27eb1c6a",
   "metadata": {},
   "outputs": [
    {
     "name": "stdout",
     "output_type": "stream",
     "text": [
      "Enter a number:10\n",
      "The sum of first 10 natural numbers is 45\n"
     ]
    }
   ],
   "source": [
    "# 6. Write a Python Program to Find the Sum of Natural Numbers?\n",
    "\n",
    "a=int(input(\"Enter a number:\"));s=0\n",
    "for i in range(a):s+=i\n",
    "print(\"The sum of first\",a,\"natural numbers is\",s)"
   ]
  }
 ],
 "metadata": {
  "kernelspec": {
   "display_name": "Python 3",
   "language": "python",
   "name": "python3"
  },
  "language_info": {
   "codemirror_mode": {
    "name": "ipython",
    "version": 3
   },
   "file_extension": ".py",
   "mimetype": "text/x-python",
   "name": "python",
   "nbconvert_exporter": "python",
   "pygments_lexer": "ipython3",
   "version": "3.8.8"
  }
 },
 "nbformat": 4,
 "nbformat_minor": 5
}
