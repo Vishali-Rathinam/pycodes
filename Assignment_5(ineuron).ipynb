{
 "cells": [
  {
   "cell_type": "code",
   "execution_count": 8,
   "id": "45e8278f",
   "metadata": {},
   "outputs": [
    {
     "name": "stdout",
     "output_type": "stream",
     "text": [
      "Enter the first number:54\n",
      "Enter the second number:24\n",
      "The lcm of 54 and 24 is 216\n"
     ]
    }
   ],
   "source": [
    "# 1. Write a Python Program to Find LCM?\n",
    "\n",
    "a=int(input(\"Enter the first number:\"))\n",
    "b=int(input(\"Enter the second number:\"))\n",
    "c=max(a,b)\n",
    "for i in range(c,1000):\n",
    "    if i%a==0 and i%b==0:lcm=i;break\n",
    "print(\"The lcm of\",a,\"and\",b,\"is\",lcm)"
   ]
  },
  {
   "cell_type": "code",
   "execution_count": 8,
   "id": "fed1c3ba",
   "metadata": {},
   "outputs": [
    {
     "name": "stdout",
     "output_type": "stream",
     "text": [
      "Enter the first number:54\n",
      "Enter the second number:24\n",
      "The hcf of 54 and 24 is 6\n"
     ]
    }
   ],
   "source": [
    "# 2. Write a Python Program to Find HCF?\n",
    "\n",
    "a=int(input(\"Enter the first number:\"))\n",
    "b=int(input(\"Enter the second number:\"))\n",
    "c=min(a,b);hcf=0\n",
    "for i in range(1,c+1):\n",
    "    if a%i==0 and b%i==0:hcf=i\n",
    "print(\"The hcf of\",a,\"and\",b,\"is\",hcf)"
   ]
  },
  {
   "cell_type": "code",
   "execution_count": 4,
   "id": "2e97eb28",
   "metadata": {},
   "outputs": [
    {
     "name": "stdout",
     "output_type": "stream",
     "text": [
      "Enter a number:28\n",
      "Binary number of 28 is:11100\n",
      "Octal number of 28 is:0o34\n",
      "hexadecimal number of 28 is:0x1c\n"
     ]
    }
   ],
   "source": [
    "# 3. Write a Python Program to Convert Decimal to Binary, Octal and Hexadecimal?\n",
    "\n",
    "a = int(input(\"Enter a number:\"))\n",
    "print(\"Binary number of\",a,\"is:\",end='')\n",
    "print(bin(a).replace('0b',\"\"))\n",
    "print(\"Octal number of\",a,\"is:\",end='')\n",
    "print(oct(a))\n",
    "print(\"hexadecimal number of\",a,\"is:\",end='')\n",
    "print(hex(a))"
   ]
  },
  {
   "cell_type": "code",
   "execution_count": 1,
   "id": "89a7741d",
   "metadata": {},
   "outputs": [
    {
     "name": "stdout",
     "output_type": "stream",
     "text": [
      "Enter a character:r\n",
      "The ascii of r is 114\n"
     ]
    }
   ],
   "source": [
    "# 4. Write a Python Program To Find ASCII value of a character?\n",
    "\n",
    "a = input(\"Enter a character:\").strip()\n",
    "print(\"The ascii of\",a,\"is\",ord(a))"
   ]
  },
  {
   "cell_type": "code",
   "execution_count": 11,
   "id": "2afefbfc",
   "metadata": {},
   "outputs": [
    {
     "name": "stdout",
     "output_type": "stream",
     "text": [
      "Enter the first number:10\n",
      "Enter the second number:5\n",
      "operation available:\n",
      "1.Add\n",
      "2.Sub\n",
      "3.multiply\n",
      "4.Div\n",
      "Enter choice:4\n",
      "10 / 5 = 2.0\n"
     ]
    }
   ],
   "source": [
    "# 5. Write a Python Program to Make a Simple Calculator with 4 basic mathematical operations?\n",
    "\n",
    "a = int(input(\"Enter the first number:\"))\n",
    "b = int(input(\"Enter the second number:\"))\n",
    "print(\"operation available:\")\n",
    "print(\"1.Add\")\n",
    "print(\"2.Sub\")\n",
    "print(\"3.multiply\")\n",
    "print(\"4.Div\")\n",
    "c = int(input(\"Enter choice:\"))\n",
    "if c==1:print(a,\"+\",b,\"=\",a+b)\n",
    "elif c==2:print(a,\"-\",b,\"=\",a-b)\n",
    "elif c==3:print(a,\"*\",b,\"=\",a*b)\n",
    "else: print(a,\"/\",b,\"=\",a/b)"
   ]
  }
 ],
 "metadata": {
  "kernelspec": {
   "display_name": "Python 3",
   "language": "python",
   "name": "python3"
  },
  "language_info": {
   "codemirror_mode": {
    "name": "ipython",
    "version": 3
   },
   "file_extension": ".py",
   "mimetype": "text/x-python",
   "name": "python",
   "nbconvert_exporter": "python",
   "pygments_lexer": "ipython3",
   "version": "3.8.8"
  }
 },
 "nbformat": 4,
 "nbformat_minor": 5
}
