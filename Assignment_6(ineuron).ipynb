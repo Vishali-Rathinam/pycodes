{
 "cells": [
  {
   "cell_type": "markdown",
   "id": "a62b241c",
   "metadata": {},
   "source": [
    "# Assignment_6 (ineuron)"
   ]
  },
  {
   "cell_type": "code",
   "execution_count": 1,
   "id": "91d0aabe",
   "metadata": {},
   "outputs": [
    {
     "name": "stdout",
     "output_type": "stream",
     "text": [
      "Enter no. of terms required:10\n",
      "The fibonacci sequence is\n",
      "0 1 2 3 5 8 13 21 34 55 "
     ]
    }
   ],
   "source": [
    "# 1. Write a Python Program to Display Fibonacci Sequence Using Recursion?\n",
    "\n",
    "def fibonacci(n):\n",
    "    a=0;b=1;s=0\n",
    "    for i in range(n):\n",
    "        print(s,end=' ')\n",
    "        s=a+b\n",
    "        a,b=b,s\n",
    "        \n",
    "a=int(input(\"Enter no. of terms required:\"))\n",
    "print(\"The fibonacci sequence is\");fibonacci(a)"
   ]
  },
  {
   "cell_type": "code",
   "execution_count": 7,
   "id": "af285a66",
   "metadata": {},
   "outputs": [
    {
     "name": "stdout",
     "output_type": "stream",
     "text": [
      "Enter a number:3\n",
      "The factorial of 3 is 6\n"
     ]
    }
   ],
   "source": [
    "# 2. Write a Python Program to Find Factorial of Number Using Recursion?\n",
    "\n",
    "def fact(n):\n",
    "    if n==1:\n",
    "        return 1\n",
    "    else:\n",
    "        return n*fact(n-1)\n",
    "a=int(input(\"Enter a number:\"))\n",
    "print(\"The factorial of\",a,\"is\",fact(a))"
   ]
  },
  {
   "cell_type": "code",
   "execution_count": 2,
   "id": "c994845b",
   "metadata": {},
   "outputs": [
    {
     "name": "stdout",
     "output_type": "stream",
     "text": [
      "Enter the weight in kg:65\n",
      "Enter the height in m:1.65\n",
      "The BMI is:23.88 kg/m^2\n"
     ]
    }
   ],
   "source": [
    "# 3. Write a Python Program to calculate your Body Mass Index?\n",
    "\n",
    "a=int(input(\"Enter the weight in kg:\"))\n",
    "b=float(input(\"Enter the height in m:\"))\n",
    "b=b**2\n",
    "print(\"The BMI is:\",end='')\n",
    "print(\"{:.2f}\".format(a/b),\"kg/m^2\")"
   ]
  },
  {
   "cell_type": "code",
   "execution_count": 2,
   "id": "13498504",
   "metadata": {},
   "outputs": [
    {
     "name": "stdout",
     "output_type": "stream",
     "text": [
      "Enter a number:100\n",
      "The natural logarithm of 100.0 is 4.605170185988092\n"
     ]
    }
   ],
   "source": [
    "# 4. Write a Python Program to calculate the natural logarithm of any number?\n",
    "\n",
    "import math\n",
    "a=float(input(\"Enter a number:\"))\n",
    "print(\"The natural logarithm of\",a,\"is\",math.log(a))"
   ]
  },
  {
   "cell_type": "code",
   "execution_count": 3,
   "id": "973f7512",
   "metadata": {},
   "outputs": [
    {
     "name": "stdout",
     "output_type": "stream",
     "text": [
      "Enter a number:10\n",
      "The cube sum of first 10 numbers is 3025\n"
     ]
    }
   ],
   "source": [
    "# 5. Write a Python Program for cube sum of first n natural numbers?\n",
    "\n",
    "a=int(input(\"Enter a number:\"))\n",
    "c=[i**3 for i in range(1,a+1)]\n",
    "print(\"The cube sum of first\",a,\"numbers is\",sum(c))"
   ]
  }
 ],
 "metadata": {
  "kernelspec": {
   "display_name": "Python 3",
   "language": "python",
   "name": "python3"
  },
  "language_info": {
   "codemirror_mode": {
    "name": "ipython",
    "version": 3
   },
   "file_extension": ".py",
   "mimetype": "text/x-python",
   "name": "python",
   "nbconvert_exporter": "python",
   "pygments_lexer": "ipython3",
   "version": "3.8.8"
  }
 },
 "nbformat": 4,
 "nbformat_minor": 5
}
