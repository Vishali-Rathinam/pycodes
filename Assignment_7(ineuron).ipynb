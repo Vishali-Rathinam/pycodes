{
 "cells": [
  {
   "cell_type": "markdown",
   "id": "ad194608",
   "metadata": {},
   "source": [
    "# Assignment_7(ineuron)"
   ]
  },
  {
   "cell_type": "code",
   "execution_count": 1,
   "id": "b1a6ba0b",
   "metadata": {},
   "outputs": [
    {
     "name": "stdout",
     "output_type": "stream",
     "text": [
      "Enter the list of numbers:1 2 3 4 5 6 7 8 9 10\n",
      "The sum of elements in the list is: 55\n"
     ]
    }
   ],
   "source": [
    "# 1. Write a Python Program to find sum of array?\n",
    "\n",
    "a = list(map(int,input(\"Enter the list of numbers:\").split()))\n",
    "print(\"The sum of elements in the list is:\",sum(a))"
   ]
  },
  {
   "cell_type": "code",
   "execution_count": 2,
   "id": "9c6d9074",
   "metadata": {},
   "outputs": [
    {
     "name": "stdout",
     "output_type": "stream",
     "text": [
      "Enter the list of numbers:147 63 459 65 23 13 52 65\n",
      "The largest element in the list is: 459\n"
     ]
    }
   ],
   "source": [
    "# 2. Write a Python Program to find largest element in an array?\n",
    "\n",
    "a = list(map(int,input(\"Enter the list of numbers:\").split()))\n",
    "print(\"The largest element in the list is:\",max(a))"
   ]
  },
  {
   "cell_type": "code",
   "execution_count": 13,
   "id": "feb6b2ac",
   "metadata": {},
   "outputs": [
    {
     "name": "stdout",
     "output_type": "stream",
     "text": [
      "Enter the list of numbers:1 2 3 4 5\n",
      "Enter number of times the array should be rotated:2\n",
      "The array after 2 rotations is 3 4 5 1 2\n"
     ]
    }
   ],
   "source": [
    "# 3. Write a Python Program for array rotation?\n",
    "\n",
    "a = list(map(int,input(\"Enter the list of numbers:\").split()))\n",
    "b = int(input(\"Enter number of times the array should be rotated:\"))\n",
    "for i in range(b):\n",
    "    a = a[1:]+a[:1]\n",
    "print(\"The array after\",b,\"rotations is \",end='')\n",
    "print(*a)"
   ]
  },
  {
   "cell_type": "code",
   "execution_count": 8,
   "id": "f7616ade",
   "metadata": {},
   "outputs": [
    {
     "name": "stdout",
     "output_type": "stream",
     "text": [
      "Enter the list of numbers:1 2 3 4 5 6 7 8 9 10\n",
      "The revised array is 6 7 8 9 10 1 2 3 4 5\n"
     ]
    }
   ],
   "source": [
    "# 4. Write a Python Program to Split the array and add the first part to the end?\n",
    "\n",
    "a = list(map(int,input(\"Enter the list of numbers:\").split()))\n",
    "b = len(a)//2\n",
    "a = a[b:]+a[:b]\n",
    "print(\"The revised array is\",*a)"
   ]
  },
  {
   "cell_type": "code",
   "execution_count": 14,
   "id": "e4c6e9c7",
   "metadata": {},
   "outputs": [
    {
     "name": "stdout",
     "output_type": "stream",
     "text": [
      "Enter the list of numbers:1 2 3 4 5 6 7 8 9\n",
      "The given list is monotonic\n"
     ]
    }
   ],
   "source": [
    "# 5. Write a Python Program to check if given array is Monotonic?\n",
    "\n",
    "a = list(map(int,input(\"Enter the list of numbers:\").split()))\n",
    "b = [abs(a[i]-a[i+1]) for i in range(len(a)-1)]\n",
    "b=list(set(b))\n",
    "if len(b)==1 and b[0]==1:\n",
    "    print(\"The given list is monotonic\")\n",
    "else:\n",
    "    print(\"The given list is not monotonic\")"
   ]
  }
 ],
 "metadata": {
  "kernelspec": {
   "display_name": "Python 3",
   "language": "python",
   "name": "python3"
  },
  "language_info": {
   "codemirror_mode": {
    "name": "ipython",
    "version": 3
   },
   "file_extension": ".py",
   "mimetype": "text/x-python",
   "name": "python",
   "nbconvert_exporter": "python",
   "pygments_lexer": "ipython3",
   "version": "3.8.8"
  }
 },
 "nbformat": 4,
 "nbformat_minor": 5
}
