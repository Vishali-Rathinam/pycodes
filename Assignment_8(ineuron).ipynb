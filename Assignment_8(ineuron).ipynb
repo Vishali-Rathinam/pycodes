{
 "cells": [
  {
   "cell_type": "markdown",
   "id": "d839d479",
   "metadata": {},
   "source": [
    "# Assignment_8(ineuron)"
   ]
  },
  {
   "cell_type": "code",
   "execution_count": 11,
   "id": "e8617643",
   "metadata": {},
   "outputs": [
    {
     "name": "stdout",
     "output_type": "stream",
     "text": [
      "Enter the size of matrix:3\n",
      "Enter the values of first matrix:\n",
      "1 2 3\n",
      "4 5 6\n",
      "7 8 9\n",
      "Enter the values of second matrix:\n",
      "1 2 3 \n",
      "3 4 5\n",
      "4 5 6\n",
      "The sum of two matrices is:\n",
      "2 4 6 \n",
      "7 9 11 \n",
      "11 13 15 \n"
     ]
    }
   ],
   "source": [
    "# 1. Write a Python Program to Add Two Matrices?\n",
    "\n",
    "a = int(input(\"Enter the size of matrix:\"))\n",
    "print(\"Enter the values of first matrix:\")\n",
    "b = [list(map(int,input().split())) for i in range(a)]\n",
    "print(\"Enter the values of second matrix:\")\n",
    "c = [list(map(int,input().split())) for i in range(a)]\n",
    "print(\"The sum of two matrices is:\")\n",
    "for i in range(a):\n",
    "    for j in range(a):\n",
    "        print(b[i][j]+c[i][j],end=' ')\n",
    "    print()"
   ]
  },
  {
   "cell_type": "code",
   "execution_count": 17,
   "id": "e04c2d5a",
   "metadata": {
    "scrolled": true
   },
   "outputs": [
    {
     "name": "stdout",
     "output_type": "stream",
     "text": [
      "Enter the size of matrix:2\n",
      "Enter the values of first matrix:\n",
      "1 2\n",
      "3 4\n",
      "Enter the values of second matrix:\n",
      "6 7\n",
      "8 9\n",
      "The multiplication of two matrices is:\n",
      "22 25\n",
      "50 57\n"
     ]
    }
   ],
   "source": [
    "# 2. Write a Python Program to Multiply Two Matrices?\n",
    "\n",
    "a = int(input(\"Enter the size of matrix:\"))\n",
    "print(\"Enter the values of first matrix:\")\n",
    "b = [list(map(int,input().split())) for i in range(a)]\n",
    "print(\"Enter the values of second matrix:\")\n",
    "c = [list(map(int,input().split())) for i in range(a)]\n",
    "r=[[0 for i in range(a)] for j in range(a)]\n",
    "res = [[sum(a*b for a,b in zip(X_row,Y_col)) for Y_col in zip(*c)] for X_row in b]\n",
    "print(\"The multiplication of two matrices is:\")\n",
    "for i in res:\n",
    "    print(*i)"
   ]
  },
  {
   "cell_type": "code",
   "execution_count": 5,
   "id": "4365a992",
   "metadata": {},
   "outputs": [
    {
     "name": "stdout",
     "output_type": "stream",
     "text": [
      "Enter the size of matrix:3\n",
      "Enter the values of matrix:\n",
      "1 2 3\n",
      "4 5 6\n",
      "7 8 9\n",
      "The transpose of given matrix is:\n",
      "1 4 7\n",
      "2 5 8\n",
      "3 6 9\n"
     ]
    }
   ],
   "source": [
    "# 3. Write a Python Program to Transpose a Matrix?\n",
    "\n",
    "a = int(input(\"Enter the size of matrix:\"))\n",
    "print(\"Enter the values of matrix:\")\n",
    "b = [list(map(int,input().split())) for i in range(a)]\n",
    "b = zip(*b)\n",
    "print(\"The transpose of given matrix is:\")\n",
    "for i in b:\n",
    "    print(*i)"
   ]
  },
  {
   "cell_type": "code",
   "execution_count": 5,
   "id": "4e5d502c",
   "metadata": {},
   "outputs": [
    {
     "name": "stdout",
     "output_type": "stream",
     "text": [
      "Enter the set of words to sort:dog cat fish girl apple ball vish\n",
      "The sorted words are: apple ball cat dog fish girl vish\n"
     ]
    }
   ],
   "source": [
    "# 4. Write a Python Program to Sort Words in Alphabetic Order?\n",
    "\n",
    "a = input(\"Enter the set of words to sort:\").split()\n",
    "a.sort()\n",
    "print(\"The sorted words are:\",*a)"
   ]
  },
  {
   "cell_type": "code",
   "execution_count": 3,
   "id": "949c75d2",
   "metadata": {},
   "outputs": [
    {
     "name": "stdout",
     "output_type": "stream",
     "text": [
      "Enter the string:I don't often go swimming; I prefer to play tennis.\n",
      "The revised string is: I dont often go swimming I prefer to play tennis\n"
     ]
    }
   ],
   "source": [
    "# 5. Write a Python Program to Remove Punctuation From a String?\n",
    "\n",
    "a = input(\"Enter the string:\").strip()\n",
    "l=\".?!,:;_-[]{}()'\"\n",
    "b=''\n",
    "for i in a:\n",
    "    if i not in l:\n",
    "        b+=i\n",
    "print(\"The revised string is:\",b)"
   ]
  }
 ],
 "metadata": {
  "kernelspec": {
   "display_name": "Python 3",
   "language": "python",
   "name": "python3"
  },
  "language_info": {
   "codemirror_mode": {
    "name": "ipython",
    "version": 3
   },
   "file_extension": ".py",
   "mimetype": "text/x-python",
   "name": "python",
   "nbconvert_exporter": "python",
   "pygments_lexer": "ipython3",
   "version": "3.8.8"
  }
 },
 "nbformat": 4,
 "nbformat_minor": 5
}
