{
 "cells": [
  {
   "cell_type": "markdown",
   "id": "f5a9b0bd",
   "metadata": {},
   "source": [
    "# Assignment_9(ineuron) "
   ]
  },
  {
   "cell_type": "raw",
   "id": "ab11772e",
   "metadata": {},
   "source": [
    "Submitted by- Vishali R"
   ]
  },
  {
   "cell_type": "code",
   "execution_count": 3,
   "id": "8b0c2dfc",
   "metadata": {},
   "outputs": [
    {
     "name": "stdout",
     "output_type": "stream",
     "text": [
      "Enter a number:175\n",
      "Disarium number\n"
     ]
    }
   ],
   "source": [
    "# 1. Write a Python program to check if the given number is a Disarium Number?\n",
    "\n",
    "a=int(input(\"Enter a number:\"));b=0;a=str(a)\n",
    "for i in range(len(a)):\n",
    "    b+=(int(a[i])**(i+1))\n",
    "print(\"Disarium number\" if a==str(b) else \"Not a disarium number\")"
   ]
  },
  {
   "cell_type": "code",
   "execution_count": 4,
   "id": "97986a3b",
   "metadata": {},
   "outputs": [
    {
     "name": "stdout",
     "output_type": "stream",
     "text": [
      "The disarium numbers between 1 to 100 is:\n",
      "1 2 3 4 5 6 7 8 9 89 "
     ]
    }
   ],
   "source": [
    "# 2. Write a Python program to print all disarium numbers between 1 to 100?\n",
    "\n",
    "print(\"The disarium numbers between 1 to 100 is:\")\n",
    "for i in range(1,101):\n",
    "    b=0;a=str(i)\n",
    "    for j in range(len(a)):\n",
    "        b+=(int(a[j])**(j+1))\n",
    "    if a==str(b):\n",
    "        print(i,end=' ')"
   ]
  },
  {
   "cell_type": "code",
   "execution_count": 1,
   "id": "da812474",
   "metadata": {},
   "outputs": [
    {
     "name": "stdout",
     "output_type": "stream",
     "text": [
      "Enter a number:7\n",
      "The entered number is a Happy number\n"
     ]
    }
   ],
   "source": [
    "# 3. Write a Python program to check if the given number is Happy Number?\n",
    "\n",
    "a=int(input(\"Enter a number:\"));r=a\n",
    "while True:\n",
    "    b=0\n",
    "    for i in str(a):\n",
    "        b+=(int(i)**2)\n",
    "    if b==1:\n",
    "        print(\"The entered number is a Happy number\");break\n",
    "    elif b==r:\n",
    "        print(\"The entered number is Not a happy number\");break\n",
    "    else:\n",
    "        a=b"
   ]
  },
  {
   "cell_type": "code",
   "execution_count": 1,
   "id": "000c9164",
   "metadata": {},
   "outputs": [
    {
     "name": "stdout",
     "output_type": "stream",
     "text": [
      "The Happy numbers between 1 to 100 is:\n",
      "1 7 10 13 19 23 28 31 32 44 49 68 70 79 82 86 91 94 97 100 "
     ]
    }
   ],
   "source": [
    "# 4. Write a Python program to print all happy numbers between 1 and 100?\n",
    "\n",
    "print(\"The Happy numbers between 1 to 100 is:\")\n",
    "for i in range(1,101):\n",
    "    q=i\n",
    "    while True:\n",
    "        b=0\n",
    "        for j in str(q):\n",
    "            b+=(int(j)**2)\n",
    "        if b==1:\n",
    "            print(i,end=' ');break\n",
    "        elif b==4:\n",
    "            break\n",
    "        else:q=b"
   ]
  },
  {
   "cell_type": "code",
   "execution_count": 4,
   "id": "a5853b11",
   "metadata": {},
   "outputs": [
    {
     "name": "stdout",
     "output_type": "stream",
     "text": [
      "Enter a number:1729\n",
      "The given number is a harshad number\n"
     ]
    }
   ],
   "source": [
    "# 5. Write a Python program to determine whether the given number is a Harshad Number?\n",
    "\n",
    "a=int(input(\"Enter a number:\"))\n",
    "b=0\n",
    "for i in str(a):\n",
    "    b+=int(i)\n",
    "if a%b==0:print(\"The given number is a harshad number\")\n",
    "else: print(\"The given number is not a harshad number\")"
   ]
  },
  {
   "cell_type": "code",
   "execution_count": 8,
   "id": "53b0610e",
   "metadata": {},
   "outputs": [
    {
     "name": "stdout",
     "output_type": "stream",
     "text": [
      "The pronic numbers between 1 and 100 is:\n",
      "2 6 12 20 30 42 56 72 90 "
     ]
    }
   ],
   "source": [
    "# 6. Write a Python program to print all pronic numbers between 1 and 100?\n",
    "\n",
    "print(\"The pronic numbers between 1 and 100 is:\")\n",
    "for i in range(1,101):\n",
    "    for j in range(1,i+1):\n",
    "        if j*(j-1)==i:\n",
    "            print(i,end=' ')\n",
    "            break"
   ]
  }
 ],
 "metadata": {
  "kernelspec": {
   "display_name": "Python 3",
   "language": "python",
   "name": "python3"
  },
  "language_info": {
   "codemirror_mode": {
    "name": "ipython",
    "version": 3
   },
   "file_extension": ".py",
   "mimetype": "text/x-python",
   "name": "python",
   "nbconvert_exporter": "python",
   "pygments_lexer": "ipython3",
   "version": "3.8.8"
  }
 },
 "nbformat": 4,
 "nbformat_minor": 5
}
