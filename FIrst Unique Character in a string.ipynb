{
 "cells": [
  {
   "cell_type": "markdown",
   "id": "db7b6fed",
   "metadata": {},
   "source": [
    "# First Unique Character in a String\n",
    "\n",
    "Given a string s, find the first non-repeating character in it and return its index. If it does not exist, return -1.\n",
    "Submitted by Vishali"
   ]
  },
  {
   "cell_type": "code",
   "execution_count": 3,
   "id": "98518a41",
   "metadata": {},
   "outputs": [
    {
     "name": "stdout",
     "output_type": "stream",
     "text": [
      "Enter a string:abcbcbc\n",
      "The first Unique character is : a\n"
     ]
    }
   ],
   "source": [
    "a=input(\"Enter a string:\").strip()\n",
    "b={}\n",
    "for i in a:\n",
    "    b[i]=b.get(i,0)+1\n",
    "c=0\n",
    "for i,j in b.items():\n",
    "    if j==1:\n",
    "        print(\"The first Unique character is : \"+i)\n",
    "        c=1\n",
    "        break\n",
    "if c==0:\n",
    "    print(\"NO unique characters\")"
   ]
  },
  {
   "cell_type": "code",
   "execution_count": null,
   "id": "e0dda0a3",
   "metadata": {},
   "outputs": [],
   "source": []
  }
 ],
 "metadata": {
  "kernelspec": {
   "display_name": "Python 3",
   "language": "python",
   "name": "python3"
  },
  "language_info": {
   "codemirror_mode": {
    "name": "ipython",
    "version": 3
   },
   "file_extension": ".py",
   "mimetype": "text/x-python",
   "name": "python",
   "nbconvert_exporter": "python",
   "pygments_lexer": "ipython3",
   "version": "3.8.8"
  }
 },
 "nbformat": 4,
 "nbformat_minor": 5
}
