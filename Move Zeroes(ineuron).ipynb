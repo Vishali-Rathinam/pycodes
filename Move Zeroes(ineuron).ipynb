{
 "cells": [
  {
   "cell_type": "raw",
   "id": "2066b1d7",
   "metadata": {},
   "source": [
    "## DSA Surprise Mock Test \n",
    "-Completed by vishali"
   ]
  },
  {
   "cell_type": "markdown",
   "id": "4638e707",
   "metadata": {},
   "source": [
    "Move Zeroes\n",
    "Given an integer array nums, move all 0's to the end of it while maintaining the relative order of the non-zero elements."
   ]
  },
  {
   "cell_type": "code",
   "execution_count": 4,
   "id": "33cce15f",
   "metadata": {},
   "outputs": [
    {
     "name": "stdout",
     "output_type": "stream",
     "text": [
      "Enter the list:1 0 2 0 3 0 4 0 5 0\n",
      "The Modifed List is\n",
      "[1, 2, 3, 4, 5, 0, 0, 0, 0, 0]\n"
     ]
    }
   ],
   "source": [
    "a=list(map(int,input(\"Enter the list:\").split()))\n",
    "b=0\n",
    "c=a.count(0)\n",
    "for i in range(c):\n",
    "    a.remove(0)\n",
    "a.extend([0]*c)\n",
    "print(\"The Modifed List is\")\n",
    "print(a)"
   ]
  },
  {
   "cell_type": "code",
   "execution_count": null,
   "id": "98cb2925",
   "metadata": {},
   "outputs": [],
   "source": []
  }
 ],
 "metadata": {
  "kernelspec": {
   "display_name": "Python 3",
   "language": "python",
   "name": "python3"
  },
  "language_info": {
   "codemirror_mode": {
    "name": "ipython",
    "version": 3
   },
   "file_extension": ".py",
   "mimetype": "text/x-python",
   "name": "python",
   "nbconvert_exporter": "python",
   "pygments_lexer": "ipython3",
   "version": "3.8.8"
  }
 },
 "nbformat": 4,
 "nbformat_minor": 5
}
