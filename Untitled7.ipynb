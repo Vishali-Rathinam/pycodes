{
 "cells": [
  {
   "cell_type": "markdown",
   "id": "fc994078",
   "metadata": {},
   "source": [
    "q1:\n",
    "ineuron\n",
    "ineuron ineuron\n",
    "ineuron ineuron ineuron\n",
    "ineuron ineuron ineuron ineuron"
   ]
  },
  {
   "cell_type": "code",
   "execution_count": 89,
   "id": "0ebc553f",
   "metadata": {},
   "outputs": [
    {
     "name": "stdout",
     "output_type": "stream",
     "text": [
      "ineuron \n",
      "ineuron ineuron \n",
      "ineuron ineuron ineuron \n",
      "ineuron ineuron ineuron ineuron \n"
     ]
    }
   ],
   "source": [
    "n=4\n",
    "for i in range(n):\n",
    "    for j in range(i+1):\n",
    "        print(\"ineuron\",end=' ')\n",
    "    print()"
   ]
  },
  {
   "cell_type": "markdown",
   "id": "71fcd913",
   "metadata": {},
   "source": [
    "q2: \n",
    "               ineuron\n",
    "        ineuron        ineuron\n",
    "ineuron        ineuron        ineuron\n",
    "       ineuron          ineuron\n",
    "               ineuron"
   ]
  },
  {
   "cell_type": "code",
   "execution_count": 90,
   "id": "05354b9c",
   "metadata": {},
   "outputs": [
    {
     "name": "stdout",
     "output_type": "stream",
     "text": [
      "              ineuron        \n",
      "       ineuron        ineuron        \n",
      "ineuron        ineuron        ineuron        \n",
      "       ineuron        ineuron        \n",
      "              ineuron        \n"
     ]
    }
   ],
   "source": [
    "n=3\n",
    "b=\"ineuron\"\n",
    "for i in range(1,n+1):\n",
    "    for j in range(n-i):\n",
    "        print(\" \"*len(b),end='')\n",
    "    for j in range(i):\n",
    "        print(b,\" \"*len(b),end='')\n",
    "    print()\n",
    "for i in range(n-1,0,-1):\n",
    "    for j in range(n-i):\n",
    "        print(\" \"*len(b),end='')\n",
    "    for j in range(i):\n",
    "        print(b,\" \"*len(b),end='')\n",
    "    print()        "
   ]
  },
  {
   "cell_type": "markdown",
   "id": "feda4d8a",
   "metadata": {},
   "source": [
    " q3: "
   ]
  },
  {
   "cell_type": "code",
   "execution_count": 91,
   "id": "ecf06437",
   "metadata": {},
   "outputs": [],
   "source": [
    "l=[[1,2,3,4],(2,3,4,5,6),(3,4,5,6,7),set([23,4,5,45,4,4,5,45,45,4,5]),{\"k1\":\"Sudh\",\"k2\":\"ineuron\",\"k3\":\"kumar\",3:6,7:8},[\"ineuron\",\"data science\"]]"
   ]
  },
  {
   "cell_type": "code",
   "execution_count": 92,
   "id": "8983e30a",
   "metadata": {},
   "outputs": [
    {
     "name": "stdout",
     "output_type": "stream",
     "text": [
      "[1, 2, 3, 4]\n",
      "['ineuron', 'data science']\n"
     ]
    }
   ],
   "source": [
    "# try to extract all the list entity\n",
    "for i in l:\n",
    "    if type(i)==list:\n",
    "        print(i)"
   ]
  },
  {
   "cell_type": "code",
   "execution_count": 93,
   "id": "24ec91a0",
   "metadata": {},
   "outputs": [
    {
     "name": "stdout",
     "output_type": "stream",
     "text": [
      "{'k1': 'Sudh', 'k2': 'ineuron', 'k3': 'kumar', 3: 6, 7: 8}\n"
     ]
    }
   ],
   "source": [
    "# try to extract all the dict entity\n",
    "for i in l:\n",
    "    if type(i)==dict:\n",
    "        print(i)"
   ]
  },
  {
   "cell_type": "code",
   "execution_count": 94,
   "id": "20b7bdd2",
   "metadata": {},
   "outputs": [
    {
     "name": "stdout",
     "output_type": "stream",
     "text": [
      "(2, 3, 4, 5, 6)\n",
      "(3, 4, 5, 6, 7)\n"
     ]
    }
   ],
   "source": [
    "# try to extract all the dict entity\n",
    "for i in l:\n",
    "    if type(i)==tuple:\n",
    "        print(i)"
   ]
  },
  {
   "cell_type": "code",
   "execution_count": 95,
   "id": "8957b937",
   "metadata": {},
   "outputs": [
    {
     "name": "stdout",
     "output_type": "stream",
     "text": [
      "1 2 3 4 2 3 4 5 6 3 4 5 6 7 45 4 5 23 3 6\n",
      "7 8\n"
     ]
    }
   ],
   "source": [
    "# try to extract all the numerical data\n",
    "q=[]\n",
    "for i in l:\n",
    "    if type(i)==list or type(i)==tuple or type(i)==set:\n",
    "        for j in i:\n",
    "            if type(j)==int:\n",
    "                q.append(j)\n",
    "                print(j,end=' ')\n",
    "    elif type(i)==dict:\n",
    "        for j in i:\n",
    "            if type(j)==int:\n",
    "                q.append(j)\n",
    "                print(j,end=' ')\n",
    "            if type(i[j])==int:\n",
    "                q.append(i[j])\n",
    "                print(i[j])"
   ]
  },
  {
   "cell_type": "code",
   "execution_count": 96,
   "id": "ececd5f2",
   "metadata": {},
   "outputs": [
    {
     "name": "stdout",
     "output_type": "stream",
     "text": [
      "156\n"
     ]
    }
   ],
   "source": [
    "#try to give summation of all the the numeric data\n",
    "print(sum(q))"
   ]
  },
  {
   "cell_type": "code",
   "execution_count": 97,
   "id": "57bf7258",
   "metadata": {},
   "outputs": [
    {
     "name": "stdout",
     "output_type": "stream",
     "text": [
      "1 3 3 5 3 5 7 45 5 23 3 7 "
     ]
    }
   ],
   "source": [
    "#try to filter out all the odd values out of all numeric data\n",
    "for i in q:\n",
    "    if int(i)%2!=0:\n",
    "        print(i,end=' ')"
   ]
  },
  {
   "cell_type": "code",
   "execution_count": 98,
   "id": "a161af94",
   "metadata": {},
   "outputs": [
    {
     "name": "stdout",
     "output_type": "stream",
     "text": [
      "ineuron ineuron "
     ]
    }
   ],
   "source": [
    "#try to extract ineuron out of this data\n",
    "for i in l:\n",
    "    if type(i)!=dict:\n",
    "        for j in i:\n",
    "            if j=='ineuron':\n",
    "                print(j,end=' ')\n",
    "    else:\n",
    "        for j in i:\n",
    "            if j=='ineuron':\n",
    "                print(j,end=' ')\n",
    "            if i[j]=='ineuron':\n",
    "                print(i[j],end=' ')"
   ]
  },
  {
   "cell_type": "code",
   "execution_count": 99,
   "id": "40874bed",
   "metadata": {},
   "outputs": [
    {
     "name": "stdout",
     "output_type": "stream",
     "text": [
      "1 : 1\n",
      "2 : 2\n",
      "3 : 4\n",
      "4 : 4\n",
      "5 : 3\n",
      "6 : 3\n",
      "7 : 2\n",
      "k3 : 1\n",
      "ineuron : 2\n",
      "kumar : 1\n",
      "8 : 1\n",
      "data science : 1\n",
      "45 : 1\n",
      "23 : 1\n",
      "k2 : 1\n",
      "Sudh : 1\n",
      "k1 : 1\n"
     ]
    }
   ],
   "source": [
    "#try to find out number of occurances of all the data\n",
    "a=[]\n",
    "for i in l:\n",
    "    for j in i:\n",
    "        a.append(j)\n",
    "    if type(i)==dict:\n",
    "        for j in i:\n",
    "            a.append(i[j])\n",
    "b=set(a)\n",
    "for i in b:\n",
    "    print(i,\":\",a.count(i))"
   ]
  },
  {
   "cell_type": "code",
   "execution_count": 100,
   "id": "f1fa67af",
   "metadata": {},
   "outputs": [
    {
     "name": "stdout",
     "output_type": "stream",
     "text": [
      "number of keys : 5\n"
     ]
    }
   ],
   "source": [
    "#try to find out number of keys in dict element\n",
    "for i in l:\n",
    "    if type(i)==dict:\n",
    "        print(\"number of keys\",\":\",len(i))"
   ]
  },
  {
   "cell_type": "code",
   "execution_count": 101,
   "id": "03995045",
   "metadata": {},
   "outputs": [
    {
     "name": "stdout",
     "output_type": "stream",
     "text": [
      "k1\n",
      "k2\n",
      "k3\n",
      "Sudh\n",
      "ineuron\n",
      "kumar\n",
      "ineuron\n",
      "data science\n"
     ]
    }
   ],
   "source": [
    "#try to filter out all string data\n",
    "for i in l:\n",
    "    for j in i:\n",
    "        if type(j)==str:\n",
    "            print(j)\n",
    "    if type(i)==dict:\n",
    "        for j in i:\n",
    "            if type(i[j])==str:\n",
    "                print(i[j])"
   ]
  },
  {
   "cell_type": "code",
   "execution_count": 102,
   "id": "d89deee8",
   "metadata": {},
   "outputs": [
    {
     "name": "stdout",
     "output_type": "stream",
     "text": [
      "1 2 3 4 2 3 4 5 6 3 4 5 6 7 45 4 5 23 k1 k2 k3 3 7 Sudh ineuron kumar 6 8 ineuron "
     ]
    }
   ],
   "source": [
    "#try to find out alphanumeric data \n",
    "for i in l:\n",
    "    for j in i:\n",
    "        if str(j).isalnum()==1:\n",
    "            print(j,end=' ')\n",
    "    if type(i)==dict:\n",
    "        for j in i:\n",
    "            if str(i[j]).isalnum()==1:\n",
    "                print(i[j],end=' ')"
   ]
  },
  {
   "cell_type": "code",
   "execution_count": 103,
   "id": "af156e08",
   "metadata": {},
   "outputs": [
    {
     "name": "stdout",
     "output_type": "stream",
     "text": [
      "24\n",
      "720\n",
      "2520\n",
      "20700\n",
      "21\n",
      "1\n"
     ]
    }
   ],
   "source": [
    "# try to find out multiplication of all the individual collection inside dataset\n",
    "for i in l:\n",
    "    m=1\n",
    "    for j in i:\n",
    "        if type(j)==int:\n",
    "            m=m*j\n",
    "    print(m)       "
   ]
  },
  {
   "cell_type": "code",
   "execution_count": 104,
   "id": "785fdfcd",
   "metadata": {},
   "outputs": [
    {
     "name": "stdout",
     "output_type": "stream",
     "text": [
      "[1, 2, 3, 4, 2, 3, 4, 5, 6, 3, 4, 5, 6, 7, 45, 4, 5, 23, 'k1', 'k2', 'k3', 3, 7, 'Sudh', 'ineuron', 'kumar', 6, 8, 'ineuron', 'data science']\n"
     ]
    }
   ],
   "source": [
    "#try to unwrap all the collection inside and create a flat list\n",
    "a=[]\n",
    "for i in l:\n",
    "    for j in i:\n",
    "        a.append(j)\n",
    "    if type(i)==dict:\n",
    "        for j in i:\n",
    "            a.append(i[j])\n",
    "print(a)"
   ]
  },
  {
   "cell_type": "code",
   "execution_count": null,
   "id": "4c6593db",
   "metadata": {},
   "outputs": [],
   "source": []
  }
 ],
 "metadata": {
  "kernelspec": {
   "display_name": "Python 3",
   "language": "python",
   "name": "python3"
  },
  "language_info": {
   "codemirror_mode": {
    "name": "ipython",
    "version": 3
   },
   "file_extension": ".py",
   "mimetype": "text/x-python",
   "name": "python",
   "nbconvert_exporter": "python",
   "pygments_lexer": "ipython3",
   "version": "3.8.8"
  }
 },
 "nbformat": 4,
 "nbformat_minor": 5
}
