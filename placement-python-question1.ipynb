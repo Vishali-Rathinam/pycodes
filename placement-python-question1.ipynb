{
 "cells": [
  {
   "cell_type": "raw",
   "id": "de1acb0a",
   "metadata": {},
   "source": [
    "#VISHALI RaATHINAM\n",
    "\n",
    "1. Write a program that takes a string as input, and counts the frequency of each word in the string, there might\n",
    "be repeated characters in the string. Your task is to find the highest frequency and returns the length of the\n",
    "highest-frequency word.\n"
   ]
  },
  {
   "cell_type": "code",
   "execution_count": 8,
   "id": "f4026a47",
   "metadata": {},
   "outputs": [
    {
     "name": "stdout",
     "output_type": "stream",
     "text": [
      "Enter a string: write write write all the number from from from 1 to 100\n",
      "5\n"
     ]
    }
   ],
   "source": [
    "a=input(\"Enter a string: \").split()\n",
    "cnt=0\n",
    "dict1={};d=0\n",
    "for i in a:\n",
    "    if i not in dict1:\n",
    "        dict1[i]=1\n",
    "    else:\n",
    "        dict1[i]+=1\n",
    "        if dict1[i]>cnt:\n",
    "            cnt=dict1[i]\n",
    "            if len(i)>d:\n",
    "                d=len(i)\n",
    "print(d)     "
   ]
  },
  {
   "cell_type": "code",
   "execution_count": null,
   "id": "eb83679c",
   "metadata": {},
   "outputs": [],
   "source": []
  },
  {
   "cell_type": "code",
   "execution_count": null,
   "id": "f28d1aa3",
   "metadata": {},
   "outputs": [],
   "source": []
  }
 ],
 "metadata": {
  "kernelspec": {
   "display_name": "Python 3",
   "language": "python",
   "name": "python3"
  },
  "language_info": {
   "codemirror_mode": {
    "name": "ipython",
    "version": 3
   },
   "file_extension": ".py",
   "mimetype": "text/x-python",
   "name": "python",
   "nbconvert_exporter": "python",
   "pygments_lexer": "ipython3",
   "version": "3.8.8"
  }
 },
 "nbformat": 4,
 "nbformat_minor": 5
}
